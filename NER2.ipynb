{
 "cells": [
  {
   "cell_type": "code",
   "execution_count": 1,
   "metadata": {},
   "outputs": [],
   "source": [
    "import warnings\n",
    "import os\n",
    "import spacy\n",
    "import json\n",
    "import random   \n",
    "import re\n",
    "from spacy.training.example import Example\n",
    "from spacy.util import minibatch, compounding\n",
    "from sklearn.model_selection import train_test_split\n",
    "from spacy.scorer import Scorer\n",
    "import matplotlib.pyplot as plt\n",
    "\n",
    "\n",
    "warnings.filterwarnings(\"ignore\")"
   ]
  },
  {
   "cell_type": "code",
   "execution_count": 8,
   "metadata": {},
   "outputs": [],
   "source": [
    "nlp = spacy.load(\"en_core_web_sm\")"
   ]
  },
  {
   "cell_type": "code",
   "execution_count": 3,
   "metadata": {},
   "outputs": [],
   "source": [
    "\n",
    "folder_path = \"/Users/rishabhralli/Documents/JIIT/Major1/implementation/ResumesJsonAnnotated\"\n",
    "\n",
    "training_data = []\n",
    "\n",
    "def filter_overlapping_entities(entities):\n",
    "    entities = sorted(entities, key=lambda x: (x[0], x[1]))  \n",
    "    filtered_entities = []\n",
    "    last_end = -1\n",
    "    for start, end, label in entities:\n",
    "        if start >= last_end:\n",
    "            filtered_entities.append((start, end, label))\n",
    "            last_end = end\n",
    "    return filtered_entities\n",
    "\n",
    "def load_data_from_folder(folder_path, num_files=1000):\n",
    "    data = []\n",
    "    files = os.listdir(folder_path)\n",
    "    json_files = [file for file in files if file.endswith(\".json\")]\n",
    "    random.shuffle(json_files) \n",
    "    selected_files = json_files[:num_files]  \n",
    "    for filename in selected_files:\n",
    "        json_file_path = os.path.join(folder_path, filename)\n",
    "        with open(json_file_path, \"r\", encoding=\"utf-8\") as file:\n",
    "            resume_data = json.load(file)\n",
    "            data.append(resume_data)\n",
    "    return data\n",
    "\n",
    "resume_data = load_data_from_folder(folder_path, num_files=4000)"
   ]
  },
  {
   "cell_type": "code",
   "execution_count": 4,
   "metadata": {},
   "outputs": [],
   "source": [
    "for data in resume_data:\n",
    "    text = data[\"text\"].strip()  \n",
    "    annotations = data[\"annotations\"]  \n",
    "\n",
    "\n",
    "    entities = [(int(start), int(end), \"SKILL\") for start, end, label in annotations]\n",
    "    entities = filter_overlapping_entities(entities)  \n",
    "    training_data.append((text, {\"entities\": entities})) \n",
    "\n",
    "\n",
    "def trim_entity_spans(data):\n",
    "    \"\"\"Removes leading and trailing white spaces from entity spans.\"\"\"\n",
    "    invalid_span_tokens = re.compile(r'\\s')\n",
    "    cleaned_data = []\n",
    "    for text, annotations in data:\n",
    "        entities = annotations['entities']\n",
    "        valid_entities = []\n",
    "        for start, end, label in entities:\n",
    "            valid_start = start\n",
    "            valid_end = end\n",
    "            while valid_start < len(text) and invalid_span_tokens.match(text[valid_start]):\n",
    "                valid_start += 1\n",
    "            while valid_end > 1 and valid_end <= len(text) and invalid_span_tokens.match(text[valid_end - 1]):\n",
    "                valid_end -= 1\n",
    "            if valid_start < valid_end:  \n",
    "                valid_entities.append([valid_start, valid_end, label])\n",
    "        cleaned_data.append([text, {'entities': valid_entities}])\n",
    "    return cleaned_data\n",
    "\n",
    "\n",
    "training_data = trim_entity_spans(training_data)"
   ]
  },
  {
   "cell_type": "code",
   "execution_count": 48,
   "metadata": {},
   "outputs": [],
   "source": [
    "\n",
    "ner = nlp.get_pipe(\"ner\")\n",
    "\n",
    "\n",
    "for _, annotations in training_data:\n",
    "    for start, end, label in annotations.get(\"entities\"):\n",
    "        ner.add_label(label)\n",
    "\n",
    "\n",
    "train_data, test_data = train_test_split(training_data, test_size=0.3, random_state=42)"
   ]
  },
  {
   "cell_type": "code",
   "execution_count": 6,
   "metadata": {},
   "outputs": [
    {
     "name": "stdout",
     "output_type": "stream",
     "text": [
      "Iteration 0 - Losses: {'ner': np.float32(256922.53)}\n",
      "Iteration 1 - Losses: {'ner': np.float32(227890.52)}\n",
      "Iteration 2 - Losses: {'ner': np.float32(219790.7)}\n",
      "Iteration 3 - Losses: {'ner': np.float32(215516.17)}\n",
      "Iteration 4 - Losses: {'ner': np.float32(213903.03)}\n",
      "Iteration 5 - Losses: {'ner': np.float32(212078.66)}\n",
      "Iteration 6 - Losses: {'ner': np.float32(209590.7)}\n",
      "Iteration 7 - Losses: {'ner': np.float32(208068.1)}\n",
      "Iteration 8 - Losses: {'ner': np.float32(207049.5)}\n",
      "Iteration 9 - Losses: {'ner': np.float32(206061.27)}\n",
      "Iteration 10 - Losses: {'ner': np.float32(204387.83)}\n",
      "Iteration 11 - Losses: {'ner': np.float32(203220.34)}\n",
      "Iteration 12 - Losses: {'ner': np.float32(202339.81)}\n",
      "Iteration 13 - Losses: {'ner': np.float32(200424.83)}\n",
      "Iteration 14 - Losses: {'ner': np.float32(200206.39)}\n",
      "Iteration 15 - Losses: {'ner': np.float32(199223.81)}\n",
      "Iteration 16 - Losses: {'ner': np.float32(198326.61)}\n",
      "Iteration 17 - Losses: {'ner': np.float32(196769.14)}\n",
      "Iteration 18 - Losses: {'ner': np.float32(196358.81)}\n",
      "Iteration 19 - Losses: {'ner': np.float32(195760.38)}\n",
      "Iteration 20 - Losses: {'ner': np.float32(193761.97)}\n",
      "Iteration 21 - Losses: {'ner': np.float32(193707.94)}\n",
      "Iteration 22 - Losses: {'ner': np.float32(192980.2)}\n",
      "Iteration 23 - Losses: {'ner': np.float32(192168.86)}\n",
      "Iteration 24 - Losses: {'ner': np.float32(192900.16)}\n",
      "Iteration 25 - Losses: {'ner': np.float32(191493.27)}\n",
      "Iteration 26 - Losses: {'ner': np.float32(190582.4)}\n",
      "Iteration 27 - Losses: {'ner': np.float32(189624.42)}\n",
      "Iteration 28 - Losses: {'ner': np.float32(188856.52)}\n",
      "Iteration 29 - Losses: {'ner': np.float32(188454.8)}\n",
      "Iteration 30 - Losses: {'ner': np.float32(188346.4)}\n",
      "Iteration 31 - Losses: {'ner': np.float32(187625.33)}\n",
      "Iteration 32 - Losses: {'ner': np.float32(187445.78)}\n",
      "Iteration 33 - Losses: {'ner': np.float32(185750.97)}\n",
      "Iteration 34 - Losses: {'ner': np.float32(186246.97)}\n",
      "Iteration 35 - Losses: {'ner': np.float32(185364.81)}\n",
      "Iteration 36 - Losses: {'ner': np.float32(185610.77)}\n",
      "Iteration 37 - Losses: {'ner': np.float32(184551.05)}\n",
      "Iteration 38 - Losses: {'ner': np.float32(184302.25)}\n",
      "Iteration 39 - Losses: {'ner': np.float32(184280.34)}\n",
      "Iteration 40 - Losses: {'ner': np.float32(183973.53)}\n",
      "Iteration 41 - Losses: {'ner': np.float32(183426.17)}\n",
      "Iteration 42 - Losses: {'ner': np.float32(182609.86)}\n",
      "Iteration 43 - Losses: {'ner': np.float32(182466.12)}\n",
      "Iteration 44 - Losses: {'ner': np.float32(180923.22)}\n",
      "Iteration 45 - Losses: {'ner': np.float32(181296.4)}\n",
      "Iteration 46 - Losses: {'ner': np.float32(181764.22)}\n",
      "Iteration 47 - Losses: {'ner': np.float32(180853.19)}\n",
      "Iteration 48 - Losses: {'ner': np.float32(180827.0)}\n",
      "Iteration 49 - Losses: {'ner': np.float32(180945.3)}\n",
      "Iteration 50 - Losses: {'ner': np.float32(181462.05)}\n",
      "Iteration 51 - Losses: {'ner': np.float32(180699.48)}\n",
      "Iteration 52 - Losses: {'ner': np.float32(180339.44)}\n",
      "Iteration 53 - Losses: {'ner': np.float32(179500.72)}\n",
      "Iteration 54 - Losses: {'ner': np.float32(178618.16)}\n",
      "Iteration 55 - Losses: {'ner': np.float32(179758.61)}\n",
      "Iteration 56 - Losses: {'ner': np.float32(178815.94)}\n",
      "Iteration 57 - Losses: {'ner': np.float32(179169.25)}\n",
      "Iteration 58 - Losses: {'ner': np.float32(179483.58)}\n",
      "Iteration 59 - Losses: {'ner': np.float32(178064.69)}\n",
      "Iteration 60 - Losses: {'ner': np.float32(178877.83)}\n",
      "Iteration 61 - Losses: {'ner': np.float32(178060.25)}\n",
      "Iteration 62 - Losses: {'ner': np.float32(178801.06)}\n",
      "Iteration 63 - Losses: {'ner': np.float32(178117.62)}\n",
      "Iteration 64 - Losses: {'ner': np.float32(176928.8)}\n",
      "Iteration 65 - Losses: {'ner': np.float32(177346.89)}\n",
      "Iteration 66 - Losses: {'ner': np.float32(176977.83)}\n",
      "Iteration 67 - Losses: {'ner': np.float32(176880.66)}\n",
      "Iteration 68 - Losses: {'ner': np.float32(175804.94)}\n",
      "Iteration 69 - Losses: {'ner': np.float32(175941.34)}\n",
      "Iteration 70 - Losses: {'ner': np.float32(175521.4)}\n",
      "Iteration 71 - Losses: {'ner': np.float32(176172.05)}\n",
      "Iteration 72 - Losses: {'ner': np.float32(176500.69)}\n",
      "Iteration 73 - Losses: {'ner': np.float32(176407.11)}\n",
      "Iteration 74 - Losses: {'ner': np.float32(175301.92)}\n",
      "Iteration 75 - Losses: {'ner': np.float32(175906.27)}\n",
      "Iteration 76 - Losses: {'ner': np.float32(174402.03)}\n",
      "Iteration 77 - Losses: {'ner': np.float32(174109.58)}\n",
      "Iteration 78 - Losses: {'ner': np.float32(175235.39)}\n",
      "Iteration 79 - Losses: {'ner': np.float32(173945.67)}\n",
      "Iteration 80 - Losses: {'ner': np.float32(174927.25)}\n",
      "Iteration 81 - Losses: {'ner': np.float32(175052.84)}\n",
      "Iteration 82 - Losses: {'ner': np.float32(174136.58)}\n",
      "Iteration 83 - Losses: {'ner': np.float32(173940.58)}\n",
      "Iteration 84 - Losses: {'ner': np.float32(173987.17)}\n",
      "Iteration 85 - Losses: {'ner': np.float32(174078.94)}\n",
      "Iteration 86 - Losses: {'ner': np.float32(174431.12)}\n",
      "Iteration 87 - Losses: {'ner': np.float32(173361.39)}\n",
      "Iteration 88 - Losses: {'ner': np.float32(172810.3)}\n",
      "Iteration 89 - Losses: {'ner': np.float32(172848.08)}\n",
      "Iteration 90 - Losses: {'ner': np.float32(173160.77)}\n",
      "Iteration 91 - Losses: {'ner': np.float32(172368.64)}\n",
      "Iteration 92 - Losses: {'ner': np.float32(173048.77)}\n",
      "Iteration 93 - Losses: {'ner': np.float32(173192.88)}\n",
      "Iteration 94 - Losses: {'ner': np.float32(172654.27)}\n",
      "Iteration 95 - Losses: {'ner': np.float32(172982.92)}\n",
      "Iteration 96 - Losses: {'ner': np.float32(171424.27)}\n",
      "Iteration 97 - Losses: {'ner': np.float32(173192.39)}\n",
      "Iteration 98 - Losses: {'ner': np.float32(172644.45)}\n",
      "Iteration 99 - Losses: {'ner': np.float32(172152.48)}\n"
     ]
    }
   ],
   "source": [
    "\n",
    "pipe_exceptions = [\"ner\"]\n",
    "unaffected_pipes = [pipe for pipe in nlp.pipe_names if pipe not in pipe_exceptions]\n",
    "\n",
    "\n",
    "max_iter = 100\n",
    "patience = 10\n",
    "min_delta = 0.001\n",
    "no_improvement = 0\n",
    "best_loss = float('inf')\n",
    "\n",
    "\n",
    "losses_list = []\n",
    "\n",
    "\n",
    "with nlp.disable_pipes(*unaffected_pipes): \n",
    "    optimizer = nlp.resume_training()  \n",
    "    for iteration in range(max_iter):\n",
    "        losses = {}\n",
    "        batches = minibatch(train_data, size=compounding(8.0, 32.0, 1.001))  \n",
    "        for batch in batches:\n",
    "            for text, annotations in batch:\n",
    "                doc = nlp.make_doc(text) \n",
    "                example = Example.from_dict(doc, annotations)  \n",
    "                nlp.update([example], drop=0.3, sgd=optimizer, losses=losses) \n",
    "        current_loss = losses.get('ner')\n",
    "        losses_list.append(current_loss)\n",
    "        print(f\"Iteration {iteration} - Losses: {losses}\")\n",
    "\n",
    "        # Early stopping check\n",
    "        if current_loss < best_loss - min_delta:\n",
    "            best_loss = current_loss\n",
    "            no_improvement = 0\n",
    "        else:\n",
    "            no_improvement += 1\n",
    "\n",
    "        if no_improvement >= patience:\n",
    "            print(f\"Early stopping at iteration {iteration}\")\n",
    "            break"
   ]
  },
  {
   "cell_type": "code",
   "execution_count": 7,
   "metadata": {},
   "outputs": [
    {
     "data": {
      "image/png": "[encoded data removed]",
      "text/plain": [
       "<Figure size 640x480 with 1 Axes>"
      ]
     },
     "metadata": {},
     "output_type": "display_data"
    }
   ],
   "source": [
    "plt.plot(losses_list)\n",
    "plt.title('Loss Over Iterations')\n",
    "plt.xlabel('Iteration')\n",
    "plt.ylabel('Loss')\n",
    "plt.show()"
   ]
  },
  {
   "cell_type": "code",
   "execution_count": 10,
   "metadata": {},
   "outputs": [
    {
     "name": "stdout",
     "output_type": "stream",
     "text": [
      "Collecting PyPDF2\n",
      "  Using cached pypdf2-3.0.1-py3-none-any.whl.metadata (6.8 kB)\n",
      "Using cached pypdf2-3.0.1-py3-none-any.whl (232 kB)\n",
      "Installing collected packages: PyPDF2\n",
      "Successfully installed PyPDF2-3.0.1\n",
      "\n",
      "\u001b[1m[\u001b[0m\u001b[34;49mnotice\u001b[0m\u001b[1;39;49m]\u001b[0m\u001b[39;49m A new release of pip is available: \u001b[0m\u001b[31;49m24.0\u001b[0m\u001b[39;49m -> \u001b[0m\u001b[32;49m24.2\u001b[0m\n",
      "\u001b[1m[\u001b[0m\u001b[34;49mnotice\u001b[0m\u001b[1;39;49m]\u001b[0m\u001b[39;49m To update, run: \u001b[0m\u001b[32;49mpip install --upgrade pip\u001b[0m\n"
     ]
    }
   ],
   "source": [
    "!pip install PyPDF2"
   ]
  },
  {
   "cell_type": "code",
   "execution_count": null,
   "metadata": {},
   "outputs": [],
   "source": [
    "import PyPDF2\n",
    "\n",
    "\n",
    "pdf_path = \"/Users/rishabhralli/Documents/JIIT/Major1/implementation/Rishabh Ralli- resume.pdf\"\n",
    "\n",
    "with open(pdf_path, \"rb\") as file:\n",
    "    reader = PyPDF2.PdfReader(file)\n",
    "    text = \"\"\n",
    "    for page in reader.pages:\n",
    "        text += page.extract_text() + \"\\n\"\n",
    "\n",
    "print(text)"
   ]
  },
  {
   "cell_type": "code",
   "execution_count": null,
   "metadata": {},
   "outputs": [],
   "source": [
    "\n",
    "doc = nlp(text)\n",
    "\n",
    "\n",
    "for ent in doc.ents:\n",
    "    if ent.label_ == \"SKILL\": \n",
    "        print(f\"Skill: {ent.text}, Start: {ent.start_char}, End: {ent.end_char}\")\n",
    "\n",
    "\n",
    "print(\"\\nAll Entities:\")\n",
    "for ent in doc.ents:\n",
    "    print(f\"Entity: {ent.text}, Label: {ent.label_}, Start: {ent.start_char}, End: {ent.end_char}\")"
   ]
  },
  {
   "cell_type": "code",
   "execution_count": 13,
   "metadata": {},
   "outputs": [],
   "source": [
    "\n",
    "def evaluate_model(model, test_data):\n",
    "    \"\"\"Evaluates the NER model on the test data.\n",
    "\n",
    "    Args:\n",
    "        model (Language): The spaCy model.\n",
    "        test_data (list): The test data.\n",
    "\n",
    "    Returns:\n",
    "        dict: Evaluation metrics.\n",
    "    \"\"\"\n",
    "    examples = [Example.from_dict(nlp.make_doc(text), annotations) for text, annotations in test_data]\n",
    "    scorer = model.evaluate(examples)\n",
    "    return scorer"
   ]
  },
  {
   "cell_type": "code",
   "execution_count": 65,
   "metadata": {},
   "outputs": [
    {
     "data": {
      "text/plain": [
       "1199"
      ]
     },
     "execution_count": 65,
     "metadata": {},
     "output_type": "execute_result"
    }
   ],
   "source": [
    "len(test_data)\n",
    "\n",
    "new_test_data=test_data[:1094]+test_data[1095:]\n",
    "\n",
    "len(new_test_data)"
   ]
  },
  {
   "cell_type": "code",
   "execution_count": 66,
   "metadata": {},
   "outputs": [
    {
     "name": "stdout",
     "output_type": "stream",
     "text": [
      "Evaluation Results: {'token_acc': 1.0, 'token_p': 1.0, 'token_r': 1.0, 'token_f': 1.0, 'tag_acc': None, 'sents_p': None, 'sents_r': None, 'sents_f': None, 'dep_uas': None, 'dep_las': None, 'dep_las_per_type': None, 'pos_acc': None, 'morph_acc': None, 'morph_micro_p': None, 'morph_micro_r': None, 'morph_micro_f': None, 'morph_per_feat': None, 'lemma_acc': None, 'ents_p': 0.764349571246123, 'ents_r': 0.25901104200412994, 'ents_f': 0.38691146862705256, 'ents_per_type': {'SKILL': {'p': 0.764349571246123, 'r': 0.25901104200412994, 'f': 0.38691146862705256}}, 'speed': 23369.975865322274}\n"
     ]
    }
   ],
   "source": [
    "\n",
    "evaluation_results = evaluate_model(nlp, new_test_data)\n",
    "print(\"Evaluation Results:\", evaluation_results)"
   ]
  },
  {
   "cell_type": "code",
   "execution_count": 67,
   "metadata": {},
   "outputs": [
    {
     "name": "stdout",
     "output_type": "stream",
     "text": [
      "Precision = 0.764349571246123\n",
      "Recall = 0.25901104200412994\n",
      "F1-Score = 0.38691146862705256\n"
     ]
    }
   ],
   "source": [
    "print(f\"Precision = {evaluation_results['ents_per_type']['SKILL']['p']}\")\n",
    "print(f\"Recall = {evaluation_results['ents_per_type']['SKILL']['r']}\")\n",
    "print(f\"F1-Score = {evaluation_results['ents_per_type']['SKILL']['f']}\")"
   ]
  },
  {
   "cell_type": "code",
   "execution_count": null,
   "metadata": {},
   "outputs": [
    {
     "name": "stdout",
     "output_type": "stream",
     "text": [
      "Model training complete and saved to /Users/rishabhralli/Documents/JIIT/Major1/implementation/ltrain_store\n"
     ]
    }
   ],
   "source": [
    "output_dir = \"/Users/rishabhralli/Documents/JIIT/Major1/implementation/ltrain_store\"  # Output directory where the model will be saved\n",
    "nlp.to_disk(output_dir)  \n",
    "\n",
    "print(\"Model training complete and saved to\", output_dir)"
   ]
  }
 ],
 "metadata": {
  "kernelspec": {
   "display_name": "laggy",
   "language": "python",
   "name": "python3"
  },
  "language_info": {
   "codemirror_mode": {
    "name": "ipython",
    "version": 3
   },
   "file_extension": ".py",
   "mimetype": "text/x-python",
   "name": "python",
   "nbconvert_exporter": "python",
   "pygments_lexer": "ipython3",
   "version": "3.11.9"
  }
 },
 "nbformat": 4,
 "nbformat_minor": 2
}
